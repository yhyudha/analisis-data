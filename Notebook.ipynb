{
  "cells": [
    {
      "cell_type": "markdown",
      "metadata": {
        "id": "view-in-github",
        "colab_type": "text"
      },
      "source": [
        "<a href=\"https://colab.research.google.com/github/yhyudha/analisis-data/blob/main/Notebook.ipynb\" target=\"_parent\"><img src=\"https://colab.research.google.com/assets/colab-badge.svg\" alt=\"Open In Colab\"/></a>"
      ]
    },
    {
      "cell_type": "markdown",
      "metadata": {
        "id": "H9wADwK78DCz"
      },
      "source": [
        "# Proyek Analisis Data: [dashboard.py]\n",
        "- **Nama:** [Yudha]\n",
        "- **Email:** [yohannes.haryo@lintasarta.co.id]\n",
        "- **ID Dicoding:** [Y.H Yudha]"
      ]
    },
    {
      "cell_type": "markdown",
      "metadata": {
        "id": "eE0raob58DC0"
      },
      "source": [
        "## Menentukan Pertanyaan Bisnis"
      ]
    },
    {
      "cell_type": "markdown",
      "metadata": {
        "id": "GmQeQ5YF8DC0"
      },
      "source": [
        "- Produk apakah yang paling laku dan paling tidak laku di jual\n",
        "- Negara Bagian mana yang paling banyak melakukan pembelian"
      ]
    },
    {
      "cell_type": "markdown",
      "metadata": {
        "id": "H-z4QGlO8DC1"
      },
      "source": [
        "## Import Semua Packages/Library yang Digunakan"
      ]
    },
    {
      "cell_type": "code",
      "execution_count": null,
      "metadata": {
        "id": "FVYwaObI8DC1"
      },
      "outputs": [],
      "source": [
        "numpy\n",
        "pandas\n",
        "matplotlib\n",
        "seaborn\n",
        "streamlit\n",
        "plotly.express\n",
        "babel"
      ]
    },
    {
      "cell_type": "markdown",
      "metadata": {
        "id": "h_Sh51Xy8DC1"
      },
      "source": [
        "## Data Wrangling"
      ]
    },
    {
      "cell_type": "markdown",
      "metadata": {
        "id": "sXU2GBYu8DC1"
      },
      "source": [
        "### Gathering Data"
      ]
    },
    {
      "cell_type": "code",
      "execution_count": null,
      "metadata": {
        "id": "zjCBk1BI8DC1"
      },
      "outputs": [],
      "source": [
        "# Load datasets\n",
        "customers_dataset_df = pd.read_csv(\"customers_dataset.csv\")\n",
        "#geolocation_dataset_df = pd.read_csv(\"geolocation_dataset.csv\")\n",
        "order_items_dataset_df = pd.read_csv(\"order_items_dataset.csv\")\n",
        "order_payments_dataset_df = pd.read_csv(\"order_payments_dataset.csv\")\n",
        "order_reviews_dataset_df = pd.read_csv(\"order_reviews_dataset.csv\")\n",
        "orders_dataset_df = pd.read_csv(\"orders_dataset.csv\")\n",
        "product_category_name_translation_df = pd.read_csv(\"product_category_name_translation.csv\")\n",
        "products_dataset_df = pd.read_csv(\"products_dataset.csv\")\n",
        "sellers_dataset_df = pd.read_csv(\"sellers_dataset.csv\")\n"
      ]
    },
    {
      "cell_type": "markdown",
      "source": [
        "**Insight:**\n",
        "- xxx\n",
        "- xxx"
      ],
      "metadata": {
        "id": "MMi6xGaDkbCi"
      }
    },
    {
      "cell_type": "markdown",
      "metadata": {
        "id": "FHSiqaZp8DC1"
      },
      "source": [
        "### Assessing Data"
      ]
    },
    {
      "cell_type": "code",
      "source": [
        "# Gabungkan dataset\n",
        "# # dataset-Product performance\n",
        "order_product_df = pd.merge(order_items_dataset_df, orders_dataset_df, on=\"order_id\", how=\"inner\")\n",
        "order_product_df = pd.merge(order_product_df, products_dataset_df, on=\"product_id\", how=\"inner\")\n",
        "order_product_df = pd.merge(order_product_df, product_category_name_translation_df, on=\"product_category_name\", how=\"left\")\n",
        "\n",
        "# # dataset-Demography\n",
        "order_customer_df = pd.merge(order_items_dataset_df, orders_dataset_df, on=\"order_id\", how=\"inner\")\n",
        "order_customer_df = pd.merge(order_customer_df, customers_dataset_df, on=\"customer_id\", how=\"inner\")\n",
        "\n",
        "# # dataset-RFM\n",
        "customer_order_df = pd.merge(customers_dataset_df, orders_dataset_df, on=\"customer_id\", how=\"inner\")\n",
        "customer_order_df = pd.merge(customer_order_df, order_items_dataset_df, on=\"order_id\", how=\"left\")\n"
      ],
      "metadata": {
        "id": "ax-3tEjc9Cj1"
      },
      "execution_count": null,
      "outputs": []
    },
    {
      "cell_type": "markdown",
      "source": [
        "**Insight:**\n",
        "- xxx\n",
        "- xxx"
      ],
      "metadata": {
        "id": "7dtxhAPrkhPL"
      }
    },
    {
      "cell_type": "markdown",
      "metadata": {
        "id": "EhN5R4hr8DC1"
      },
      "source": [
        "### Cleaning Data"
      ]
    },
    {
      "cell_type": "code",
      "source": [],
      "metadata": {
        "id": "jVnYpprE9Evz"
      },
      "execution_count": null,
      "outputs": []
    },
    {
      "cell_type": "markdown",
      "source": [
        "**Insight:**\n",
        "- xxx\n",
        "- xxx"
      ],
      "metadata": {
        "id": "Q_5ejIqckiSP"
      }
    },
    {
      "cell_type": "markdown",
      "metadata": {
        "id": "gp-Y6wU38DC1"
      },
      "source": [
        "## Exploratory Data Analysis (EDA)"
      ]
    },
    {
      "cell_type": "markdown",
      "metadata": {
        "id": "MW7WF2kr8DC1"
      },
      "source": [
        "### Explore ..."
      ]
    },
    {
      "cell_type": "code",
      "execution_count": null,
      "metadata": {
        "id": "e9CQCZjk8DC2"
      },
      "outputs": [],
      "source": [
        "# Helper function yang dibutuhkan untuk menyiapkan berbagai dataframe\n",
        "def create_sum_order_items_df(df):\n",
        "    sum_order_items_df = (\n",
        "        df.groupby(\"product_category_name_english\")[\"order_id\"]\n",
        "        .nunique()\n",
        "        .sort_values(ascending=False)\n",
        "        .reset_index(name=\"total_orders\")\n",
        "    )\n",
        "    return sum_order_items_df\n",
        "\n",
        "def create_bystate_df(df):\n",
        "    bystate_df = df.groupby(by=\"customer_state\").customer_id.nunique().reset_index()\n",
        "    bystate_df.rename(columns={\"customer_id\": \"customer_count\"}, inplace=True)\n",
        "    return bystate_df\n",
        "\n",
        "def create_rfm_df(df):\n",
        "    df[\"order_purchase_timestamp\"] = pd.to_datetime(df[\"order_purchase_timestamp\"])\n",
        "    recent_date = df[\"order_purchase_timestamp\"].max().date()\n",
        "    rfm_df = df.groupby(\"customer_id\", as_index=False).agg({\n",
        "        \"order_purchase_timestamp\": \"max\",\n",
        "        \"order_id\": \"nunique\",\n",
        "        \"price\": \"sum\"\n",
        "    })\n",
        "    rfm_df.columns = [\"customer_id\", \"last_purchase_date\", \"frequency\", \"monetary\"]\n",
        "    rfm_df[\"last_purchase_date\"] = rfm_df[\"last_purchase_date\"].dt.date\n",
        "    rfm_df[\"recency\"] = rfm_df[\"last_purchase_date\"].apply(lambda x: (recent_date - x).days)\n",
        "    rfm_df.drop(\"last_purchase_date\", axis=1, inplace=True)\n",
        "    return rfm_df\n",
        "\n",
        "\n",
        "# Menyiapkan berbagai dataframe\n",
        "sum_order_items_df = create_sum_order_items_df(order_product_df)\n",
        "bystate_df = create_bystate_df(order_customer_df)\n",
        "rfm_df = create_rfm_df(customer_order_df)\n"
      ]
    },
    {
      "cell_type": "markdown",
      "source": [
        "**Insight:**\n",
        "- xxx\n",
        "- xxx"
      ],
      "metadata": {
        "id": "th_Lzl2Fkj9O"
      }
    },
    {
      "cell_type": "markdown",
      "metadata": {
        "id": "zsyZjqak8DC2"
      },
      "source": [
        "## Visualization & Explanatory Analysis"
      ]
    },
    {
      "cell_type": "markdown",
      "metadata": {
        "id": "HZxOiQ6n8DC2"
      },
      "source": [
        "### Pertanyaan 1:"
      ]
    },
    {
      "cell_type": "code",
      "execution_count": null,
      "metadata": {
        "id": "1swJUdAD8DC2"
      },
      "outputs": [],
      "source": [
        "# Panggil fungsi dan tampilkan hasilnya\n",
        "sum_order_items_df = create_sum_order_items_df(order_product_df)\n",
        "\n",
        "fig, ax = plt.subplots(nrows=1, ncols=2, figsize=(20, 5), dpi=100)\n",
        "colors = [\"#90CAF9\", \"#D3D3D3\", \"#D3D3D3\", \"#D3D3D3\", \"#D3D3D3\"]\n",
        "\n",
        "# Best Performing\n",
        "sns.barplot(\n",
        "    x=\"total_orders\",\n",
        "    y=\"product_category_name_english\",\n",
        "    data=sum_order_items_df.head(5),\n",
        "    hue=\"product_category_name_english\",\n",
        "    palette=colors,\n",
        "    ax=ax[0],\n",
        "    legend=False\n",
        ")\n",
        "ax[0].set_ylabel(None)\n",
        "ax[0].set_xlabel(\"Number of Orders\", fontsize=12)\n",
        "ax[0].set_title(\"Best Performing Product\", loc=\"center\", fontsize=14)\n",
        "ax[0].tick_params(axis='y', labelsize=10)\n",
        "ax[0].tick_params(axis='x', labelsize=10)\n",
        "\n",
        "# Worst Performing\n",
        "sns.barplot(\n",
        "    x=\"total_orders\",\n",
        "    y=\"product_category_name_english\",\n",
        "    data=sum_order_items_df.sort_values(by=\"total_orders\", ascending=True).head(5),\n",
        "    hue=\"product_category_name_english\",\n",
        "    palette=colors,\n",
        "    ax=ax[1],\n",
        "    legend=False\n",
        ")\n",
        "ax[1].set_ylabel(None)\n",
        "ax[1].set_xlabel(\"Number of Orders\", fontsize=12)\n",
        "ax[1].set_title(\"Worst Performing Product\", loc=\"center\", fontsize=14)\n",
        "ax[1].tick_params(axis='y', labelsize=10)\n",
        "ax[1].tick_params(axis='x', labelsize=10)\n",
        "\n",
        "# Tampilkan di Streamlit\n",
        "st.pyplot(fig)"
      ]
    },
    {
      "cell_type": "markdown",
      "metadata": {
        "id": "DgHI7CiU8DC2"
      },
      "source": [
        "### Pertanyaan 2:"
      ]
    },
    {
      "cell_type": "code",
      "execution_count": null,
      "metadata": {
        "id": "Go0lCsvO8DC2"
      },
      "outputs": [],
      "source": [
        "bystate_df = create_bystate_df(order_customer_df)\n",
        "\n",
        "# Sort and create colors\n",
        "sorted_df = bystate_df.sort_values(by=\"customer_count\", ascending=False)\n",
        "colors = [\"#90CAF9\" if i == 0 else \"#D3D3D3\" for i in range(len(sorted_df))]\n",
        "\n",
        "# Plotting\n",
        "fig, ax = plt.subplots(figsize=(20, 10))\n",
        "sns.barplot(\n",
        "    x=\"customer_count\",\n",
        "    y=\"customer_state\",\n",
        "    data=sorted_df,\n",
        "    palette=colors,\n",
        "    ax=ax\n",
        ")\n",
        "ax.set_title(\"Number of Customers by State\", loc=\"center\", fontsize=30)\n",
        "ax.set_ylabel(None)\n",
        "ax.set_xlabel(None)\n",
        "ax.tick_params(axis='y', labelsize=20)\n",
        "ax.tick_params(axis='x', labelsize=15)\n",
        "\n",
        "# Display in Streamlit\n",
        "st.pyplot(fig)\n"
      ]
    },
    {
      "cell_type": "markdown",
      "source": [
        "**Insight:**\n",
        "- xxx\n",
        "- xxx"
      ],
      "metadata": {
        "id": "_0-36BDLklRg"
      }
    },
    {
      "cell_type": "markdown",
      "source": [
        "## Analisis Lanjutan (Opsional)"
      ],
      "metadata": {
        "id": "9y4VUsmcYNZ5"
      }
    },
    {
      "cell_type": "code",
      "source": [
        "# Fungsi RFM\n",
        "def create_rfm_df(df):\n",
        "    df[\"order_purchase_timestamp\"] = pd.to_datetime(df[\"order_purchase_timestamp\"])\n",
        "    recent_date = df[\"order_purchase_timestamp\"].max().date()\n",
        "\n",
        "    rfm_df = df.groupby(\"customer_id\", as_index=False).agg({\n",
        "        \"order_purchase_timestamp\": \"max\",\n",
        "        \"order_id\": \"nunique\",\n",
        "        \"price\": \"sum\"\n",
        "    })\n",
        "\n",
        "    rfm_df.columns = [\"customer_id\", \"last_purchase_date\", \"frequency\", \"monetary\"]\n",
        "    rfm_df[\"last_purchase_date\"] = rfm_df[\"last_purchase_date\"].dt.date\n",
        "    rfm_df[\"recency\"] = rfm_df[\"last_purchase_date\"].apply(lambda x: (recent_date - x).days)\n",
        "    rfm_df.drop(\"last_purchase_date\", axis=1, inplace=True)\n",
        "\n",
        "    return rfm_df\n",
        "\n",
        "rfm_df = create_rfm_df(customer_order_df)\n",
        "\n",
        "# Display RFM Metrics\n",
        "st.subheader(\"Best Customer Based on RFM Parameters\")\n",
        "\n",
        "col1, col2, col3 = st.columns(3)\n",
        "\n",
        "with col1:\n",
        "    avg_recency = round(rfm_df.recency.mean(), 1)\n",
        "    st.metric(\"Average Recency (days)\", value=avg_recency)\n",
        "\n",
        "with col2:\n",
        "    avg_frequency = round(rfm_df.frequency.mean(), 2)\n",
        "    st.metric(\"Average Frequency\", value=avg_frequency)\n",
        "\n",
        "with col3:\n",
        "    avg_monetary = format_currency(rfm_df.monetary.mean(), \"AUD\", locale='es_CO')\n",
        "    st.metric(\"Average Monetary\", value=avg_monetary)\n",
        "\n",
        "# Visualisasi Top Customers\n",
        "fig, ax = plt.subplots(nrows=1, ncols=3, figsize=(35, 15))\n",
        "colors = [\"#90CAF9\"] * 5\n",
        "\n",
        "sns.barplot(\n",
        "    y=\"recency\",\n",
        "    x=\"customer_id\",\n",
        "    hue=\"customer_id\",\n",
        "    data=rfm_df.sort_values(by=\"recency\", ascending=True).head(5),\n",
        "    palette=colors,\n",
        "    ax=ax[0],\n",
        "    legend=False\n",
        ")\n",
        "ax[0].set_title(\"By Recency (days)\", loc=\"center\", fontsize=50)\n",
        "ax[0].set_xlabel(\"customer_id\", fontsize=30)\n",
        "ax[0].tick_params(axis='x', labelsize=35)\n",
        "ax[0].tick_params(axis='y', labelsize=30)\n",
        "ax[0].tick_params(axis='x', labelrotation=85)\n",
        "sns.barplot(\n",
        "    y=\"frequency\",\n",
        "    x=\"customer_id\",\n",
        "    hue=\"customer_id\",\n",
        "    data=rfm_df.sort_values(by=\"frequency\", ascending=False).head(5),\n",
        "    palette=colors,\n",
        "    ax=ax[1],\n",
        "    legend=False\n",
        ")\n",
        "ax[1].set_title(\"By Frequency\", loc=\"center\", fontsize=50)\n",
        "ax[1].set_xlabel(\"customer_id\", fontsize=30)\n",
        "ax[1].tick_params(axis='x', labelsize=35)\n",
        "ax[1].tick_params(axis='y', labelsize=30)\n",
        "ax[1].tick_params(axis='x', labelrotation=85)\n",
        "\n",
        "sns.barplot(\n",
        "    y=\"monetary\",\n",
        "    x=\"customer_id\",\n",
        "    hue=\"customer_id\",\n",
        "    data=rfm_df.sort_values(by=\"monetary\", ascending=False).head(5),\n",
        "    palette=colors,\n",
        "    ax=ax[2],\n",
        "    legend=False\n",
        ")\n",
        "ax[2].set_title(\"By Monetary\", loc=\"center\", fontsize=50)\n",
        "ax[2].set_xlabel(\"customer_id\", fontsize=30)\n",
        "ax[2].tick_params(axis='x', labelsize=35)\n",
        "ax[2].tick_params(axis='y', labelsize=30)\n",
        "ax[2].tick_params(axis='x', labelrotation=85)\n",
        "\n",
        "st.pyplot(fig)\n"
      ],
      "metadata": {
        "id": "iWhnzsJGYUCO"
      },
      "execution_count": null,
      "outputs": []
    },
    {
      "cell_type": "markdown",
      "metadata": {
        "id": "_WeHlCeX8DC2"
      },
      "source": [
        "## Conclusion"
      ]
    },
    {
      "cell_type": "markdown",
      "metadata": {
        "id": "ZTcyR48Y8DC2"
      },
      "source": [
        "- bed bath _table merupakan produk yang paling banyak terjual dan security_and _services merupakan produk paling sedikit terjual\n",
        "- customer paling paling banyak berada di state SP dan customer paling sedikit berada di state RR"
      ]
    }
  ],
  "metadata": {
    "kernelspec": {
      "display_name": "Python 3",
      "language": "python",
      "name": "python3"
    },
    "language_info": {
      "name": "python",
      "version": "3.8.0 (tags/v3.8.0:fa919fd, Oct 14 2019, 19:21:23) [MSC v.1916 32 bit (Intel)]"
    },
    "orig_nbformat": 4,
    "vscode": {
      "interpreter": {
        "hash": "972b3bf27e332e87b5379f2791f6ef9dfc79c71018c370b0d7423235e20fe4d7"
      }
    },
    "colab": {
      "provenance": [],
      "include_colab_link": true
    }
  },
  "nbformat": 4,
  "nbformat_minor": 0
}